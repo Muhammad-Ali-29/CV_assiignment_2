{
  "nbformat": 4,
  "nbformat_minor": 0,
  "metadata": {
    "colab": {
      "name": "Untitled4.ipynb",
      "provenance": [],
      "collapsed_sections": []
    },
    "kernelspec": {
      "name": "python3",
      "display_name": "Python 3"
    },
    "language_info": {
      "name": "python"
    },
    "accelerator": "GPU"
  },
  "cells": [
    {
      "cell_type": "code",
      "metadata": {
        "id": "Rf8Cq0RV1x0q"
      },
      "source": [
        "from keras.layers import Input, Lambda, Dense, Flatten\n",
        "from keras.models import Model\n",
        "from keras.applications.vgg16 import VGG16\n",
        "from keras.applications.vgg16 import preprocess_input\n",
        "from keras.preprocessing import image\n",
        "from keras.preprocessing.image import ImageDataGenerator\n",
        "from keras.models import Sequential\n",
        "import numpy as np\n",
        "from glob import glob\n",
        "import matplotlib.pyplot as plt\n",
        "\n",
        "import warnings\n",
        "warnings.filterwarnings(\"ignore\", category=FutureWarning)"
      ],
      "execution_count": null,
      "outputs": []
    },
    {
      "cell_type": "code",
      "metadata": {
        "id": "Jpp2saRU1zL8"
      },
      "source": [
        "IMAGE_SIZE = [224, 224]"
      ],
      "execution_count": null,
      "outputs": []
    },
    {
      "cell_type": "code",
      "metadata": {
        "colab": {
          "base_uri": "https://localhost:8080/"
        },
        "id": "wXqkkeHv14C3",
        "outputId": "f9f41d0e-9f8b-4c2c-b1cc-092551794ad1"
      },
      "source": [
        "from google.colab import drive\n",
        "drive.mount('/content/drive')"
      ],
      "execution_count": null,
      "outputs": [
        {
          "output_type": "stream",
          "name": "stdout",
          "text": [
            "Drive already mounted at /content/drive; to attempt to forcibly remount, call drive.mount(\"/content/drive\", force_remount=True).\n"
          ]
        }
      ]
    },
    {
      "cell_type": "code",
      "metadata": {
        "id": "q7mY4hhG16Hm"
      },
      "source": [
        "#Import the libraries\n",
        "import zipfile\n",
        "import os\n",
        "\n",
        "zip_ref = zipfile.ZipFile('/content/drive/MyDrive/xray.zip', 'r') #Opens the zip file in read mode\n",
        "zip_ref.extractall('/tmp1') #Extracts the files into the /tmp folder\n",
        "zip_ref.close()"
      ],
      "execution_count": null,
      "outputs": []
    },
    {
      "cell_type": "code",
      "metadata": {
        "colab": {
          "base_uri": "https://localhost:8080/"
        },
        "id": "Uwfo6MNZ23_b",
        "outputId": "8ce103f3-6049-4e9c-ca31-edba7a539168"
      },
      "source": [
        "vgg = VGG16(input_shape=IMAGE_SIZE + [3], weights='imagenet', include_top=False)"
      ],
      "execution_count": null,
      "outputs": [
        {
          "output_type": "stream",
          "name": "stdout",
          "text": [
            "Downloading data from https://storage.googleapis.com/tensorflow/keras-applications/vgg16/vgg16_weights_tf_dim_ordering_tf_kernels_notop.h5\n",
            "58892288/58889256 [==============================] - 1s 0us/step\n",
            "58900480/58889256 [==============================] - 1s 0us/step\n"
          ]
        }
      ]
    },
    {
      "cell_type": "code",
      "metadata": {
        "colab": {
          "base_uri": "https://localhost:8080/"
        },
        "id": "zY7pbhbt29kY",
        "outputId": "4ded3e75-3885-42bc-83e7-7eb03ef40cab"
      },
      "source": [
        "vgg.input"
      ],
      "execution_count": null,
      "outputs": [
        {
          "output_type": "execute_result",
          "data": {
            "text/plain": [
              "<KerasTensor: shape=(None, 224, 224, 3) dtype=float32 (created by layer 'input_1')>"
            ]
          },
          "metadata": {},
          "execution_count": 11
        }
      ]
    },
    {
      "cell_type": "code",
      "metadata": {
        "colab": {
          "base_uri": "https://localhost:8080/"
        },
        "id": "m8zXtn9h3TTf",
        "outputId": "9a714a3e-c6ab-4936-bef0-f964949c70ae"
      },
      "source": [
        "# useful for getting number of classes\n",
        "\n",
        "folders = glob('/tmp1/xray/train/*')\n",
        "\n",
        "print(type(folders))\n",
        "print(folders)\n",
        "len(folders)"
      ],
      "execution_count": null,
      "outputs": [
        {
          "output_type": "stream",
          "name": "stdout",
          "text": [
            "<class 'list'>\n",
            "['/tmp1/xray/train/NORMAL', '/tmp1/xray/train/PNEUMONIA']\n"
          ]
        },
        {
          "output_type": "execute_result",
          "data": {
            "text/plain": [
              "2"
            ]
          },
          "metadata": {},
          "execution_count": 15
        }
      ]
    },
    {
      "cell_type": "code",
      "metadata": {
        "id": "3aHKYdWeiSsF"
      },
      "source": [
        ""
      ],
      "execution_count": null,
      "outputs": []
    },
    {
      "cell_type": "code",
      "metadata": {
        "colab": {
          "base_uri": "https://localhost:8080/"
        },
        "id": "eS1iuc2O3XIP",
        "outputId": "52198291-f875-482a-8fd2-f8cb085b8f7d"
      },
      "source": [
        "x = Flatten()(vgg.output)\n",
        "prediction = Dense(len(folders), activation='softmax')(x)\n",
        "model = Model(inputs=vgg.input, outputs=prediction)\n",
        "model.summary()"
      ],
      "execution_count": null,
      "outputs": [
        {
          "output_type": "stream",
          "name": "stdout",
          "text": [
            "Model: \"model\"\n",
            "_________________________________________________________________\n",
            " Layer (type)                Output Shape              Param #   \n",
            "=================================================================\n",
            " input_1 (InputLayer)        [(None, 224, 224, 3)]     0         \n",
            "                                                                 \n",
            " block1_conv1 (Conv2D)       (None, 224, 224, 64)      1792      \n",
            "                                                                 \n",
            " block1_conv2 (Conv2D)       (None, 224, 224, 64)      36928     \n",
            "                                                                 \n",
            " block1_pool (MaxPooling2D)  (None, 112, 112, 64)      0         \n",
            "                                                                 \n",
            " block2_conv1 (Conv2D)       (None, 112, 112, 128)     73856     \n",
            "                                                                 \n",
            " block2_conv2 (Conv2D)       (None, 112, 112, 128)     147584    \n",
            "                                                                 \n",
            " block2_pool (MaxPooling2D)  (None, 56, 56, 128)       0         \n",
            "                                                                 \n",
            " block3_conv1 (Conv2D)       (None, 56, 56, 256)       295168    \n",
            "                                                                 \n",
            " block3_conv2 (Conv2D)       (None, 56, 56, 256)       590080    \n",
            "                                                                 \n",
            " block3_conv3 (Conv2D)       (None, 56, 56, 256)       590080    \n",
            "                                                                 \n",
            " block3_pool (MaxPooling2D)  (None, 28, 28, 256)       0         \n",
            "                                                                 \n",
            " block4_conv1 (Conv2D)       (None, 28, 28, 512)       1180160   \n",
            "                                                                 \n",
            " block4_conv2 (Conv2D)       (None, 28, 28, 512)       2359808   \n",
            "                                                                 \n",
            " block4_conv3 (Conv2D)       (None, 28, 28, 512)       2359808   \n",
            "                                                                 \n",
            " block4_pool (MaxPooling2D)  (None, 14, 14, 512)       0         \n",
            "                                                                 \n",
            " block5_conv1 (Conv2D)       (None, 14, 14, 512)       2359808   \n",
            "                                                                 \n",
            " block5_conv2 (Conv2D)       (None, 14, 14, 512)       2359808   \n",
            "                                                                 \n",
            " block5_conv3 (Conv2D)       (None, 14, 14, 512)       2359808   \n",
            "                                                                 \n",
            " block5_pool (MaxPooling2D)  (None, 7, 7, 512)         0         \n",
            "                                                                 \n",
            " flatten (Flatten)           (None, 25088)             0         \n",
            "                                                                 \n",
            " dense (Dense)               (None, 2)                 50178     \n",
            "                                                                 \n",
            "=================================================================\n",
            "Total params: 14,764,866\n",
            "Trainable params: 14,764,866\n",
            "Non-trainable params: 0\n",
            "_________________________________________________________________\n"
          ]
        }
      ]
    },
    {
      "cell_type": "code",
      "metadata": {
        "id": "q9KrXG0_30x4"
      },
      "source": [
        "from keras import optimizers\n",
        "import tensorflow as tf\n",
        "\n",
        "\n",
        "adam = tf.keras.optimizers.Adam()\n",
        "model.compile(loss='binary_crossentropy',\n",
        "              optimizer=adam,\n",
        "              metrics=['accuracy'])"
      ],
      "execution_count": null,
      "outputs": []
    },
    {
      "cell_type": "code",
      "metadata": {
        "colab": {
          "base_uri": "https://localhost:8080/"
        },
        "id": "jT-lIarq345t",
        "outputId": "9868eb42-e3ac-41fb-cf34-dec2db60a027"
      },
      "source": [
        "#training data augmentation\n",
        "train_datagen = ImageDataGenerator(\n",
        "    rescale = 1./255,\n",
        "    rotation_range=40,\n",
        "    width_shift_range=0.2,\n",
        "    height_shift_range=0.2,\n",
        "    shear_range=0.2,\n",
        "    zoom_range=0.2,\n",
        "    horizontal_flip=True,\n",
        "    fill_mode='nearest')\n",
        "\n",
        "#validation data augmentation\n",
        "valid_datagen = ImageDataGenerator(rescale = 1./255)\n",
        "\n",
        "train_set = train_datagen.flow_from_directory('/tmp1/xray/train',\n",
        "                                                 target_size = (224, 224),\n",
        "                                                 batch_size = 32,\n",
        "                                                 class_mode = 'categorical')\n",
        "\n",
        "valid_set = valid_datagen.flow_from_directory('/tmp1/xray/val',\n",
        "                                            target_size = (224, 224),\n",
        "                                            batch_size = 32,\n",
        "                                            class_mode = 'categorical')"
      ],
      "execution_count": null,
      "outputs": [
        {
          "output_type": "stream",
          "name": "stdout",
          "text": [
            "Found 4708 images belonging to 2 classes.\n",
            "Found 524 images belonging to 2 classes.\n"
          ]
        }
      ]
    },
    {
      "cell_type": "code",
      "metadata": {
        "colab": {
          "base_uri": "https://localhost:8080/"
        },
        "id": "EE_bGOKH50S7",
        "outputId": "bec70ab9-7877-4a67-982f-dab688dd7607"
      },
      "source": [
        "from datetime import datetime\n",
        "from keras.callbacks import ModelCheckpoint\n",
        "\n",
        "\n",
        "\n",
        "checkpoint = ModelCheckpoint(filepath='xray_vgg.h5', \n",
        "                               verbose=2, save_best_only=True)\n",
        "\n",
        "callbacks = [checkpoint]\n",
        "\n",
        "start = datetime.now()\n",
        "\n",
        "model_history=model.fit_generator(\n",
        "  train_set,\n",
        "  validation_data=valid_set,\n",
        "  epochs=10,\n",
        "  steps_per_epoch=len(train_set),\n",
        "  validation_steps=len(valid_set),\n",
        "    callbacks=callbacks ,verbose=2)\n",
        "\n",
        "\n",
        "duration = datetime.now() - start\n",
        "print(\"Training completed in time: \", duration)"
      ],
      "execution_count": null,
      "outputs": [
        {
          "output_type": "stream",
          "name": "stderr",
          "text": [
            "/usr/local/lib/python3.7/dist-packages/ipykernel_launcher.py:19: UserWarning: `Model.fit_generator` is deprecated and will be removed in a future version. Please use `Model.fit`, which supports generators.\n"
          ]
        },
        {
          "output_type": "stream",
          "name": "stdout",
          "text": [
            "Epoch 1/10\n",
            "\n",
            "Epoch 00001: val_loss improved from inf to 0.48186, saving model to xray_vgg.h5\n",
            "148/148 - 150s - loss: 0.4884 - accuracy: 0.7672 - val_loss: 0.4819 - val_accuracy: 0.7424 - 150s/epoch - 1s/step\n",
            "Epoch 2/10\n",
            "\n",
            "Epoch 00002: val_loss improved from 0.48186 to 0.25618, saving model to xray_vgg.h5\n",
            "148/148 - 146s - loss: 0.3330 - accuracy: 0.8449 - val_loss: 0.2562 - val_accuracy: 0.8912 - 146s/epoch - 986ms/step\n",
            "Epoch 3/10\n",
            "\n",
            "Epoch 00003: val_loss improved from 0.25618 to 0.24636, saving model to xray_vgg.h5\n",
            "148/148 - 146s - loss: 0.3020 - accuracy: 0.8600 - val_loss: 0.2464 - val_accuracy: 0.8969 - 146s/epoch - 984ms/step\n",
            "Epoch 4/10\n",
            "\n",
            "Epoch 00004: val_loss did not improve from 0.24636\n",
            "148/148 - 143s - loss: 0.3052 - accuracy: 0.8628 - val_loss: 0.3102 - val_accuracy: 0.8874 - 143s/epoch - 967ms/step\n",
            "Epoch 5/10\n",
            "\n",
            "Epoch 00005: val_loss did not improve from 0.24636\n",
            "148/148 - 144s - loss: 0.3808 - accuracy: 0.8369 - val_loss: 0.3942 - val_accuracy: 0.8473 - 144s/epoch - 971ms/step\n",
            "Epoch 6/10\n",
            "\n",
            "Epoch 00006: val_loss did not improve from 0.24636\n",
            "148/148 - 143s - loss: 0.2936 - accuracy: 0.8645 - val_loss: 0.2641 - val_accuracy: 0.8836 - 143s/epoch - 963ms/step\n",
            "Epoch 7/10\n",
            "\n",
            "Epoch 00007: val_loss did not improve from 0.24636\n",
            "148/148 - 144s - loss: 0.2799 - accuracy: 0.8734 - val_loss: 0.2495 - val_accuracy: 0.8969 - 144s/epoch - 971ms/step\n",
            "Epoch 8/10\n",
            "\n",
            "Epoch 00008: val_loss improved from 0.24636 to 0.24501, saving model to xray_vgg.h5\n",
            "148/148 - 144s - loss: 0.2690 - accuracy: 0.8825 - val_loss: 0.2450 - val_accuracy: 0.9065 - 144s/epoch - 976ms/step\n",
            "Epoch 9/10\n",
            "\n",
            "Epoch 00009: val_loss improved from 0.24501 to 0.22533, saving model to xray_vgg.h5\n",
            "148/148 - 146s - loss: 0.2580 - accuracy: 0.8889 - val_loss: 0.2253 - val_accuracy: 0.8989 - 146s/epoch - 988ms/step\n",
            "Epoch 10/10\n",
            "\n",
            "Epoch 00010: val_loss did not improve from 0.22533\n",
            "148/148 - 144s - loss: 0.2635 - accuracy: 0.8836 - val_loss: 0.2779 - val_accuracy: 0.8740 - 144s/epoch - 973ms/step\n",
            "Training completed in time:  0:25:08.089789\n"
          ]
        }
      ]
    },
    {
      "cell_type": "code",
      "metadata": {
        "colab": {
          "base_uri": "https://localhost:8080/",
          "height": 295
        },
        "id": "53gPTSl_7F1V",
        "outputId": "c4a82bc2-e09c-4044-f575-effff13cf4e6"
      },
      "source": [
        "_# Plot training & validation loss values\n",
        "plt.plot(model_history.history['accuracy'])\n",
        "plt.plot(model_history.history['val_accuracy'])\n",
        "plt.title('CNN Model accuracy values')\n",
        "plt.ylabel('Accuracy')\n",
        "plt.xlabel('Epoch')\n",
        "plt.legend(['Train', 'validation'], loc='upper left')\n",
        "plt.show()"
      ],
      "execution_count": null,
      "outputs": [
        {
          "output_type": "display_data",
          "data": {
            "image/png": "[encoded data removed]",
            "text/plain": [
              "<Figure size 432x288 with 1 Axes>"
            ]
          },
          "metadata": {
            "needs_background": "light"
          }
        }
      ]
    },
    {
      "cell_type": "code",
      "metadata": {
        "colab": {
          "base_uri": "https://localhost:8080/",
          "height": 285
        },
        "id": "gqynGlvx7uaX",
        "outputId": "a65b0572-94a0-4db4-f73c-ed64f73e50d2"
      },
      "source": [
        "# loss\n",
        "plt.plot(model_history.history['loss'], label='train loss')\n",
        "plt.plot(model_history.history['val_loss'], label='val loss')\n",
        "plt.legend()\n",
        "plt.show()\n",
        "plt.savefig('LossVal_loss')"
      ],
      "execution_count": null,
      "outputs": [
        {
          "output_type": "display_data",
          "data": {
            "image/png": "[encoded data removed]",
            "text/plain": [
              "<Figure size 432x288 with 1 Axes>"
            ]
          },
          "metadata": {
            "needs_background": "light"
          }
        },
        {
          "output_type": "display_data",
          "data": {
            "text/plain": [
              "<Figure size 432x288 with 0 Axes>"
            ]
          },
          "metadata": {}
        }
      ]
    },
    {
      "cell_type": "code",
      "metadata": {
        "id": "d8qh5gJTCWR2"
      },
      "source": [
        "from keras.models import load_model\n",
        "vgg16_xray = load_model('xray_vgg.h5')"
      ],
      "execution_count": null,
      "outputs": []
    },
    {
      "cell_type": "code",
      "metadata": {
        "colab": {
          "base_uri": "https://localhost:8080/"
        },
        "id": "-GjD_RIsCmTk",
        "outputId": "8f5be336-612f-4f95-ede1-5f394afad344"
      },
      "source": [
        "test_gen= ImageDataGenerator(rescale = 1./255)\n",
        "test_set=test_gen.flow_from_directory('/tmp1/xray/test', target_size=(224, 224), shuffle=False)\n",
        "steps_per_epoch_test=len(test_set)"
      ],
      "execution_count": null,
      "outputs": [
        {
          "output_type": "stream",
          "name": "stdout",
          "text": [
            "Found 624 images belonging to 2 classes.\n"
          ]
        }
      ]
    },
    {
      "cell_type": "code",
      "metadata": {
        "colab": {
          "base_uri": "https://localhost:8080/"
        },
        "id": "CHIi1JfOCwt4",
        "outputId": "50a82f70-1e49-4621-bec4-0ed12914bf63"
      },
      "source": [
        "t = vgg16_xray.evaluate_generator(test_set, steps_per_epoch_test, verbose=1)\n",
        "#print(\"accuracy fortesting is :....\", test_history[1])"
      ],
      "execution_count": null,
      "outputs": [
        {
          "output_type": "stream",
          "name": "stderr",
          "text": [
            "/usr/local/lib/python3.7/dist-packages/ipykernel_launcher.py:1: UserWarning: `Model.evaluate_generator` is deprecated and will be removed in a future version. Please use `Model.evaluate`, which supports generators.\n",
            "  \"\"\"Entry point for launching an IPython kernel.\n"
          ]
        },
        {
          "output_type": "stream",
          "name": "stdout",
          "text": [
            "20/20 [==============================] - 8s 344ms/step - loss: 0.3382 - accuracy: 0.8590\n"
          ]
        }
      ]
    },
    {
      "cell_type": "code",
      "metadata": {
        "id": "eGnDDZYUC407"
      },
      "source": [
        ""
      ],
      "execution_count": null,
      "outputs": []
    }
  ]
}